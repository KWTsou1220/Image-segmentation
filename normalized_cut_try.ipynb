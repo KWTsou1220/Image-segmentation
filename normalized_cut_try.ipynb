{
 "cells": [
  {
   "cell_type": "code",
   "execution_count": 1,
   "metadata": {
    "collapsed": false
   },
   "outputs": [],
   "source": [
    "#### python_ncut_lib.py\n",
    "# Copyright (C) 2010 R. Cameron Craddock (cameron.craddock@gmail.com)\n",
    "#\n",
    "# This script is a part of the pyClusterROI python toolbox for the spatially\n",
    "# constrained clustering of fMRI data. It provides the library functions for\n",
    "# performing normalized cut clustering according to:\n",
    "#\n",
    "# Stella Yu and Jianbo Shi, \"Understanding Popout through Repulsion,\" Computer\n",
    "# Vision and Pattern Recognition, December, 2001.  \n",
    "#\n",
    "# Shi, J., & Malik, J. (2000).  Normalized cuts and image segmentation. IEEE\n",
    "# Transactions on Pattern Analysis and Machine Intelligence, 22(8), 888-905.\n",
    "# doi: 10.1109/34.868688.\n",
    "#\n",
    "# Yu, S. X., & Shi, J. (2003). Multiclass spectral clustering. Proceedings Ninth\n",
    "# IEEE International Conference on Computer Vision, (1), 313-319 vol.1. Ieee.\n",
    "# doi: 10.1109/ICCV.2003.1238361.\n",
    "#\n",
    "# This code is a port of the NcutClustering_7 matlab toolbox available here:\n",
    "# http://www.cis.upenn.edu/~jshi/software/\n",
    "#\n",
    "# For more information refer to:\n",
    "#\n",
    "# Craddock, R. C.; James, G. A.; Holtzheimer, P. E.; Hu, X. P. & Mayberg, H. S.\n",
    "# A whole brain fMRI atlas generated via spatially constrained spectral\n",
    "# clustering Human Brain Mapping, 2012, 33, 1914-1928 doi: 10.1002/hbm.21333.\n",
    "#\n",
    "# ARTICLE{Craddock2012,\n",
    "#   author = {Craddock, R C and James, G A and Holtzheimer, P E and Hu, X P and\n",
    "#   Mayberg, H S},\n",
    "#   title = {{A whole brain fMRI atlas generated via spatially constrained\n",
    "#   spectral clustering}},\n",
    "#   journal = {Human Brain Mapping},\n",
    "#   year = {2012},\n",
    "#   volume = {33},\n",
    "#   pages = {1914--1928},\n",
    "#   number = {8},\n",
    "#   address = {Department of Neuroscience, Baylor College of Medicine, Houston,\n",
    "#       TX, United States},\n",
    "#   pmid = {21769991},\n",
    "# } \n",
    "#\n",
    "# Documentation, updated source code and other information can be found at the\n",
    "# NITRC web page: http://www.nitrc.org/projects/cluster_roi/ and on github at\n",
    "# https://github.com/ccraddock/cluster_roi\n",
    "#\n",
    "# This program is free software: you can redistribute it and/or modify\n",
    "# it under the terms of the GNU General Public License as published by\n",
    "# the Free Software Foundation, either version 3 of the License, or\n",
    "# (at your option) any later version.\n",
    "# \n",
    "# This program is distributed in the hope that it will be useful,\n",
    "# but WITHOUT ANY WARRANTY; without even the implied warranty of\n",
    "# MERCHANTABILITY or FITNESS FOR A PARTICULAR PURPOSE.  See the\n",
    "# GNU General Public License for more details.\n",
    "#\n",
    "# You should have received a copy of the GNU General Public License\n",
    "# along with this program.  If not, see <http://www.gnu.org/licenses/>.\n",
    "####\n",
    "\n",
    "# this scripts requires NumPy (numpy.scipy.org) and SciPy (www.scipy.org) to be\n",
    "# installed in a directory that is accessible through PythonPath \n",
    "import sys\n",
    "import matplotlib.pyplot as plt\n",
    "from numpy import array, reshape, shape, matrix, ones, zeros, sqrt\n",
    "from numpy import argsort, sign, kron, multiply, divide, abs, asarray\n",
    "from scipy import rand\n",
    "from scipy.sparse import csc_matrix, spdiags\n",
    "from scipy.sparse.linalg import eigsh\n",
    "from scipy.linalg import norm, svd, LinAlgError\n",
    "from utils import read_EM\n",
    "\n",
    "# exception hander for singular value decomposition\n",
    "class SVDError(Exception):\n",
    "    def __init__(self,value):\n",
    "        self.value=value\n",
    "    def __str__(self):\n",
    "        return repr(self.value)\n",
    "\n",
    "\n",
    "# (eigen_val, eigen_vec) = ncut( W, nbEigenValues ):\n",
    "#\n",
    "# This function performs the first step of normalized cut spectral clustering.\n",
    "# The normalized LaPlacian is calculated on the similarity matrix W, and top\n",
    "# nbEigenValues eigenvectors are calculated. The number of eigenvectors\n",
    "# corresponds to the maximum number of classes (K) that will be produced by the\n",
    "# clustering algorithm. \n",
    "#\n",
    "#    W:             symmetric #feature x #feature sparse matrix representing the\n",
    "#                   similarity between voxels, traditionally this matrix should\n",
    "#                   be positive semidefinite, but regularization is employed to\n",
    "#                   allow negative matrix entries (Yu 2001)\n",
    "#    nvEigenValues: number of eigenvectors that should be calculated, this\n",
    "#                   determines the maximum number of clusters (K) that can be\n",
    "#                   derived from the\n",
    "#    result\n",
    "#    eigen_val:     (output) eigenvalues from the eigen decomposition of the\n",
    "#                   LaPlacian of W\n",
    "#    eigen_vec:     (output) eigenvectors from the eign decomposition of the\n",
    "#                   LaPlacian of W\n",
    "#\n",
    "def ncut( W, nbEigenValues ):\n",
    "    # parameters\n",
    "    offset=.5\n",
    "    maxiterations=100\n",
    "    eigsErrorTolerence=1e-6\n",
    "    eps=2.2204e-16\n",
    "\n",
    "    m=shape(W)[1]\n",
    "\n",
    "    # make sure that W is symmetric, this is a computationally expensive\n",
    "    # operation, only use for debugging\n",
    "    # if (W-W.transpose()).sum() != 0:\n",
    "    #    print \"W should be symmetric!\"\n",
    "    #    exit(0)\n",
    "\n",
    "    # degrees and regularization\n",
    "    # S Yu Understanding Popout through Repulsion CVPR 2001\n",
    "    # Allows negative values as well as improves invertability of d for small\n",
    "    # numbers i bet that this is what improves the stability of the eigen\n",
    "    d=abs(W).sum(0)\n",
    "    dr=0.5*(d-W.sum(0))\n",
    "    d=d+offset*2\n",
    "    dr=dr+offset\n",
    "\n",
    "    # calculation of the normalized LaPlacian\n",
    "    W=W+spdiags(dr,[0],m,m,\"csc\")\n",
    "    Dinvsqrt=spdiags((1.0/sqrt(d+eps)),[0],m,m,\"csc\")\n",
    "    P=Dinvsqrt*(W*Dinvsqrt);\n",
    "\n",
    "    # perform the eigen decomposition\n",
    "    eigen_val,eigen_vec=eigsh(P,nbEigenValues,maxiter=maxiterations,\\\n",
    "        tol=eigsErrorTolerence,which='LA')\n",
    "\n",
    "    # sort the eigen_vals so that the first\n",
    "    # is the largest\n",
    "    i=argsort(-eigen_val)\n",
    "    eigen_val=eigen_val[i]\n",
    "    eigen_vec=eigen_vec[:,i]\n",
    "\n",
    "    # normalize the returned eigenvectors\n",
    "    eigen_vec=Dinvsqrt*matrix(eigen_vec)\n",
    "    norm_ones=norm(ones((m,1)))\n",
    "    for i in range(0,shape(eigen_vec)[1]):\n",
    "        eigen_vec[:,i]=(eigen_vec[:,i] / norm(eigen_vec[:,i]))*norm_ones\n",
    "        if eigen_vec[0,i] != 0:\n",
    "            eigen_vec[:,i] = -1 * eigen_vec[:,i] * sign( eigen_vec[0,i] )\n",
    "\n",
    "    return(eigen_val, eigen_vec)\n",
    "\n",
    "# eigenvec_discrete=discretisation( eigen_vec ):\n",
    "#\n",
    "# This function performs the second step of normalized cut clustering which\n",
    "# assigns features to clusters based on the eigen vectors from the LaPlacian of\n",
    "# a similarity matrix. There are a few different ways to perform this task. Shi\n",
    "# and Malik (2000) iteratively bisect the features based on the positive and\n",
    "# negative loadings of the eigenvectors. Ng, Jordan and Weiss (2001) proposed to\n",
    "# perform K-means clustering on the rows of the eigenvectors. The method\n",
    "# implemented here was proposed by Yu and Shi (2003) and it finds a discrete\n",
    "# solution by iteratively rotating a binaised set of vectors until they are\n",
    "# maximally similar to the the eigenvectors (for more information, the full\n",
    "# citation is at the top of this file). An advantage of this method over K-means\n",
    "# is that it is _more_ deterministic, i.e. you should get very similar results\n",
    "# every time you run the algorithm on the same data.\n",
    "#\n",
    "# The number of clusters that the features are clustered into is determined by\n",
    "# the number of eignevectors (number of columns) in the input array eigen_vec. A\n",
    "# caveat of this method, is that number of resulting clusters is bound by the\n",
    "# number of eignevectors, but it may contain less.\n",
    "#\n",
    "#    eigen_vec:          Eigenvectors of the normalized LaPlacian calculated\n",
    "#                        from the similarity matrix for the corresponding\n",
    "#                        clustering problem\n",
    "#    eigen_vec_discrete: (output) discretised eigenvectors, i.e. vectors of 0\n",
    "#                        and 1 which indicate whether or not a feature belongs\n",
    "#                        to the cluster defined by the eigen vector.  I.E. a one\n",
    "#                        in the 10th row of the 4th eigenvector (column) means\n",
    "#                        that feature 10 belongs to cluster #4.\n",
    "# \n",
    "def discretisation( eigen_vec ):\n",
    "    eps=2.2204e-16\n",
    "\n",
    "    # normalize the eigenvectors\n",
    "    [n,k]=shape(eigen_vec)\n",
    "    vm=kron(ones((1,k)),sqrt(multiply(eigen_vec,eigen_vec).sum(1)))\n",
    "    eigen_vec=divide(eigen_vec,vm)\n",
    "\n",
    "    svd_restarts=0\n",
    "    exitLoop=0\n",
    "\n",
    "    ### if there is an exception we try to randomize and rerun SVD again\n",
    "        ### do this 30 times\n",
    "    while (svd_restarts < 30) and (exitLoop==0):\n",
    "\n",
    "        # initialize algorithm with a random ordering of eigenvectors\n",
    "        c=zeros((n,1))\n",
    "        R=matrix(zeros((k,k)))\n",
    "        R[:,0]=eigen_vec[int(rand(1)*(n-1)),:].transpose()\n",
    "\n",
    "        for j in range(1,k):\n",
    "            c=c+abs(eigen_vec*R[:,j-1])\n",
    "            R[:,j]=eigen_vec[c.argmin(),:].transpose()\n",
    "\n",
    "\n",
    "        lastObjectiveValue=0\n",
    "        nbIterationsDiscretisation=0\n",
    "        nbIterationsDiscretisationMax=20\n",
    "\n",
    "        # iteratively rotate the discretised eigenvectors until they\n",
    "        # are maximally similar to the input eignevectors, this \n",
    "        # converges when the differences between the current solution\n",
    "        # and the previous solution differs by less than eps or we\n",
    "        # we have reached the maximum number of itarations\n",
    "        while exitLoop == 0:\n",
    "            nbIterationsDiscretisation = nbIterationsDiscretisation + 1\n",
    "\n",
    "            # rotate the original eigen_vectors\n",
    "            tDiscrete=eigen_vec*R\n",
    "\n",
    "            # discretise the result by setting the max of each row=1 and\n",
    "            # other values to 0\n",
    "            j=reshape(asarray(tDiscrete.argmax(1)),n)\n",
    "            eigenvec_discrete=csc_matrix((ones(len(j)),(range(0,n), \\\n",
    "                array(j))),shape=(n,k))\n",
    "\n",
    "            # calculate a rotation to bring the discrete eigenvectors cluster to\n",
    "            # the original eigenvectors\n",
    "            tSVD=eigenvec_discrete.transpose()*eigen_vec\n",
    "            # catch a SVD convergence error and restart\n",
    "            try:\n",
    "                U, S, Vh = svd(tSVD)\n",
    "            except LinAlgError:\n",
    "                # catch exception and go back to the beginning of the loop\n",
    "                print >> sys.stderr, \\\n",
    "                    \"SVD did not converge, randomizing and trying again\"\n",
    "                break\n",
    "\n",
    "            # test for convergence\n",
    "            NcutValue=2*(n-S.sum())\n",
    "            if((abs(NcutValue-lastObjectiveValue) < eps ) or \\\n",
    "                      ( nbIterationsDiscretisation > \\\n",
    "                        nbIterationsDiscretisationMax )):\n",
    "                exitLoop=1\n",
    "            else:\n",
    "                # otherwise calculate rotation and continue\n",
    "                lastObjectiveValue=NcutValue\n",
    "                R=matrix(Vh).transpose()*matrix(U).transpose()\n",
    "\n",
    "    if exitLoop == 0:\n",
    "        raise SVDError(\"SVD did not converge after 30 retries\")\n",
    "    else:\n",
    "        return(eigenvec_discrete)\n"
   ]
  },
  {
   "cell_type": "code",
   "execution_count": 6,
   "metadata": {
    "collapsed": false
   },
   "outputs": [],
   "source": [
    "import numpy as np\n",
    "import math\n",
    "import pdb\n",
    "import tqdm\n",
    "\n",
    "def ncut_graph_matrix(im,sigma_d=5e2,sigma_g=1e-2):\n",
    "    \"\"\" Create matrix for normalized cut. The parameters are \n",
    "        the weights for pixel distance and pixel similarity. \"\"\"\n",
    "    \n",
    "    m,n = im.shape[:2] \n",
    "    N = m*n\n",
    "    \n",
    "    im1 = im.reshape((N, 1))\n",
    "    im1 = np.repeat(im1, N, axis=1)\n",
    "    im2 = np.transpose(im1)\n",
    "    \n",
    "    xx,yy = np.meshgrid(range(n),range(m))\n",
    "    x,y = xx.flatten(),yy.flatten()\n",
    "    \n",
    "    yx = np.stack([y, x], axis=1)\n",
    "    yx = np.expand_dims(yx, axis=0)\n",
    "    yx = np.repeat(yx, N, axis=0)\n",
    "    xy = np.transpose(yx, axes=[1, 0, 2])\n",
    "    dis = np.sqrt(np.sum(1.0*(xy-yx)**2, axis=2))\n",
    "    W = np.multiply( np.exp(-1.0*np.sqrt((im1-im2)**2)/sigma_g), np.exp(-dis/sigma_d) )\n",
    "    return W\n",
    "    "
   ]
  },
  {
   "cell_type": "code",
   "execution_count": 37,
   "metadata": {
    "collapsed": false
   },
   "outputs": [],
   "source": [
    "x_train, t_train, x_test = read_EM('./Dataset/')\n",
    "idx = 1\n",
    "img = x_train[1, 0:56, 0:56]\n",
    "target = t_train[1, 0:56, 0:56]\n",
    "W = ncut_graph_matrix(img, sigma_d=1e2, sigma_g=1e-2)"
   ]
  },
  {
   "cell_type": "code",
   "execution_count": 38,
   "metadata": {
    "collapsed": false
   },
   "outputs": [],
   "source": [
    "val, vec = ncut(W, 2)\n",
    "vec = discretisation(vec)\n",
    "vec = vec.toarray()"
   ]
  },
  {
   "cell_type": "code",
   "execution_count": 39,
   "metadata": {
    "collapsed": false
   },
   "outputs": [
    {
     "data": {
      "image/png": "[encoded data removed]",
      "text/plain": [
       "<Figure size 600x400 with 1 Axes>"
      ]
     },
     "metadata": {},
     "output_type": "display_data"
    }
   ],
   "source": [
    "%matplotlib inline\n",
    "a = vec[:, 0].reshape((56, 56))\n",
    "\n",
    "plt.imshow(a, cmap='gray')\n",
    "plt.show()"
   ]
  },
  {
   "cell_type": "code",
   "execution_count": 40,
   "metadata": {
    "collapsed": false
   },
   "outputs": [
    {
     "data": {
      "image/png": "[encoded data removed]",
      "text/plain": [
       "<Figure size 600x400 with 1 Axes>"
      ]
     },
     "metadata": {},
     "output_type": "display_data"
    },
    {
     "data": {
      "image/png": "[encoded data removed]",
      "text/plain": [
       "<Figure size 600x400 with 1 Axes>"
      ]
     },
     "metadata": {},
     "output_type": "display_data"
    }
   ],
   "source": [
    "%matplotlib inline\n",
    "\n",
    "plt.imshow(img[0:56, 0:56])\n",
    "plt.show()\n",
    "plt.imshow(target[0:56, 0:56])\n",
    "plt.show()"
   ]
  },
  {
   "cell_type": "code",
   "execution_count": 1,
   "metadata": {
    "collapsed": true
   },
   "outputs": [],
   "source": [
    "import tensorflow as tf"
   ]
  },
  {
   "cell_type": "code",
   "execution_count": 5,
   "metadata": {
    "collapsed": false
   },
   "outputs": [
    {
     "data": {
      "text/plain": [
       "array([[[ 0.5,  0.5],\n",
       "        [ 0.5,  0.5]],\n",
       "\n",
       "       [[ 0.5,  0.5],\n",
       "        [ 0.5,  0.5]]], dtype=float32)"
      ]
     },
     "execution_count": 5,
     "metadata": {},
     "output_type": "execute_result"
    }
   ],
   "source": [
    "tmp = tf.ones((2, 2, 2), dtype=tf.float32)\n",
    "sess = tf.Session()\n",
    "sess.run((1/2)*tmp)"
   ]
  },
  {
   "cell_type": "code",
   "execution_count": null,
   "metadata": {
    "collapsed": true
   },
   "outputs": [],
   "source": []
  }
 ],
 "metadata": {
  "anaconda-cloud": {},
  "kernelspec": {
   "display_name": "Python [Root]",
   "language": "python",
   "name": "Python [Root]"
  },
  "language_info": {
   "codemirror_mode": {
    "name": "ipython",
    "version": 3
   },
   "file_extension": ".py",
   "mimetype": "text/x-python",
   "name": "python",
   "nbconvert_exporter": "python",
   "pygments_lexer": "ipython3",
   "version": "3.5.1"
  }
 },
 "nbformat": 4,
 "nbformat_minor": 0
}
